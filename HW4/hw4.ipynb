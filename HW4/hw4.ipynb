{
 "cells": [
  {
   "cell_type": "markdown",
   "metadata": {},
   "source": [
    "### Part 1 - a\n",
    "Loading in the dataset and defining classification functions"
   ]
  },
  {
   "cell_type": "code",
   "execution_count": 137,
   "metadata": {},
   "outputs": [],
   "source": [
    "from sklearn.datasets import load_iris\n",
    "from sklearn.model_selection import train_test_split\n",
    "import matplotlib.pyplot as plt\n",
    "\n",
    "iris = load_iris()\n",
    "\n",
    "def TrainDataWithKFolds(estimators, folds):\n",
    "    kfold = KFold(n_splits=10, random_state=11, shuffle=True)\n",
    "\n",
    "    duck = {}\n",
    "    \n",
    "    #Now execute each model and return the \n",
    "    for name, obj in estimators.items():\n",
    "        kfold = KFold(n_splits=folds, random_state=11, shuffle=True)\n",
    "        scores = cross_val_score(estimator=obj, \n",
    "            X=iris.data, y=iris.target, cv=kfold)\n",
    "\n",
    "        duck[name] = scores.mean()\n",
    "        print(f'With k = {folds}, '\n",
    "            f'{name:>20}: ' + \n",
    "            f'mean accuracy={scores.mean():.2%}; ' +\n",
    "            f'standard deviation={scores.std():.2%}')\n",
    "\n",
    "    return duck"
   ]
  },
  {
   "cell_type": "markdown",
   "metadata": {},
   "source": [
    "### Part 1 - b\n",
    "K- Closest Neighbor\n"
   ]
  },
  {
   "cell_type": "markdown",
   "metadata": {},
   "source": [
    "\n",
    "Neural Network using multi-layer perceptron"
   ]
  },
  {
   "cell_type": "code",
   "execution_count": 143,
   "metadata": {},
   "outputs": [
    {
     "name": "stdout",
     "output_type": "stream",
     "text": [
      "With k = 2, KNeighborsClassifier: mean accuracy=95.33%; standard deviation=0.67%\n",
      "With k = 2,                  SGD: mean accuracy=87.33%; standard deviation=2.00%\n",
      "With k = 2,           GaussianNB: mean accuracy=95.33%; standard deviation=3.33%\n",
      "With k = 20, KNeighborsClassifier: mean accuracy=96.70%; standard deviation=5.74%\n",
      "With k = 20,                  SGD: mean accuracy=81.70%; standard deviation=15.39%\n",
      "With k = 20,           GaussianNB: mean accuracy=94.91%; standard deviation=7.39%\n",
      "The best estimator for this dataset is KNeighborsClassifier()\n"
     ]
    }
   ],
   "source": [
    "from sklearn.neighbors import KNeighborsClassifier\n",
    "from sklearn.linear_model import SGDClassifier\n",
    "from sklearn.naive_bayes  import GaussianNB\n",
    "from sklearn.model_selection import KFold\n",
    "from sklearn.model_selection import cross_val_score\n",
    "\n",
    "estimators = {\n",
    "    'KNeighborsClassifier': KNeighborsClassifier(), \n",
    "    'SGD': SGDClassifier(loss=\"hinge\", penalty=\"l2\", max_iter=1000),\n",
    "    'GaussianNB': GaussianNB()}\n",
    "\n",
    "twoFolds = TrainDataWithKFolds(estimators, 2)\n",
    "twnentyFolds = TrainDataWithKFolds(estimators, 20)\n",
    "\n",
    "maxClassifier = max(max(twoFolds, key=twoFolds.get), max(twnentyFolds, key=twnentyFolds.get))\n",
    "    #estimators[maxClassifier], max(max(twoFolds.values()), max(twnentyFolds.values()))\n",
    "print(f\"The best estimator for this dataset is {estimators[maxClassifier]}\")"
   ]
  },
  {
   "cell_type": "code",
   "execution_count": null,
   "metadata": {},
   "outputs": [],
   "source": [
    "#We need pandas for the DateFrame, seaborn for the heatmap, and plt for the figure and color map \n",
    "import pandas as pd\n",
    "import seaborn as sns\n",
    "import matplotlib.pyplot as plt\n",
    "from sklearn.metrics import confusion_matrix\n",
    "\n",
    "\n",
    "\n",
    "\n",
    "confusion = confusion_matrix(y_true=expected_labels, y_pred=predicted_labels)\n",
    "# confusion_df = pd.DataFrame(confusion, index=range(10), columns=range(10))"
   ]
  }
 ],
 "metadata": {
  "interpreter": {
   "hash": "2028cae5e1ccfd73f96864fcab749a741bd0171c015975c3f420b043b6b34333"
  },
  "kernelspec": {
   "display_name": "Python 3.9.12 64-bit (windows store)",
   "language": "python",
   "name": "python3"
  },
  "language_info": {
   "codemirror_mode": {
    "name": "ipython",
    "version": 3
   },
   "file_extension": ".py",
   "mimetype": "text/x-python",
   "name": "python",
   "nbconvert_exporter": "python",
   "pygments_lexer": "ipython3",
   "version": "3.9.12"
  },
  "orig_nbformat": 4
 },
 "nbformat": 4,
 "nbformat_minor": 2
}
