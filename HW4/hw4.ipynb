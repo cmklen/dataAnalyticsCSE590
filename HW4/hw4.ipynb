{
 "cells": [
  {
   "cell_type": "markdown",
   "metadata": {},
   "source": [
    "### Part 1 - a\n",
    "Loading in the dataset and defining classification functions"
   ]
  },
  {
   "cell_type": "code",
   "execution_count": 153,
   "metadata": {},
   "outputs": [],
   "source": [
    "from sklearn.datasets import load_iris\n",
    "from sklearn.model_selection import train_test_split\n",
    "import matplotlib.pyplot as plt\n",
    "\n",
    "iris = load_iris()\n",
    "\n",
    "def TrainDataWithKFolds(estimators, folds):\n",
    "    kfold = KFold(n_splits=10, random_state=11, shuffle=True)\n",
    "\n",
    "    duck = {}\n",
    "    \n",
    "    #Now execute each model and return the \n",
    "    for name, obj in estimators.items():\n",
    "        kfold = KFold(n_splits=folds, random_state=11, shuffle=True)\n",
    "        scores = cross_val_score(estimator=obj, \n",
    "            X=iris.data, y=iris.target, cv=kfold)\n",
    "\n",
    "        duck[name] = scores.mean()\n",
    "        print(f'With k = {folds}, '\n",
    "            f'{name:>20}: ' + \n",
    "            f'mean accuracy={scores.mean():.2%}; ' +\n",
    "            f'standard deviation={scores.std():.2%}')\n",
    "\n",
    "    return duck"
   ]
  },
  {
   "cell_type": "markdown",
   "metadata": {},
   "source": [
    "### Part 1 - b\n",
    "K- Closest Neighbor\n"
   ]
  },
  {
   "cell_type": "markdown",
   "metadata": {},
   "source": [
    "\n",
    "Neural Network using multi-layer perceptron"
   ]
  },
  {
   "cell_type": "code",
   "execution_count": 154,
   "metadata": {},
   "outputs": [
    {
     "name": "stdout",
     "output_type": "stream",
     "text": [
      "With k = 2, KNeighborsClassifier: mean accuracy=95.33%; standard deviation=0.67%\n",
      "With k = 2,                  SGD: mean accuracy=76.00%; standard deviation=12.00%\n",
      "With k = 2,           GaussianNB: mean accuracy=95.33%; standard deviation=3.33%\n",
      "With k = 20, KNeighborsClassifier: mean accuracy=96.70%; standard deviation=5.74%\n",
      "With k = 20,                  SGD: mean accuracy=81.79%; standard deviation=20.30%\n",
      "With k = 20,           GaussianNB: mean accuracy=94.91%; standard deviation=7.39%\n",
      "The best estimator for this dataset is KNeighborsClassifier()\n"
     ]
    }
   ],
   "source": [
    "from sklearn.neighbors import KNeighborsClassifier\n",
    "from sklearn.linear_model import SGDClassifier\n",
    "from sklearn.naive_bayes  import GaussianNB\n",
    "from sklearn.model_selection import KFold\n",
    "from sklearn.model_selection import cross_val_score\n",
    "\n",
    "estimators = {\n",
    "    'KNeighborsClassifier': KNeighborsClassifier(), \n",
    "    'SGD': SGDClassifier(loss=\"hinge\", penalty=\"l2\", max_iter=1000),\n",
    "    'GaussianNB': GaussianNB()}\n",
    "\n",
    "twoFolds = TrainDataWithKFolds(estimators, 2)\n",
    "twnentyFolds = TrainDataWithKFolds(estimators, 20)\n",
    "\n",
    "maxClassifier = max(max(twoFolds, key=twoFolds.get), max(twnentyFolds, key=twnentyFolds.get))\n",
    "    #estimators[maxClassifier], max(max(twoFolds.values()), max(twnentyFolds.values()))\n",
    "print(f\"The best estimator for this dataset is {estimators[maxClassifier]}\")"
   ]
  },
  {
   "cell_type": "code",
   "execution_count": 155,
   "metadata": {},
   "outputs": [
    {
     "data": {
      "image/png": "[encoded data removed]",
      "text/plain": [
       "<Figure size 216x216 with 2 Axes>"
      ]
     },
     "metadata": {
      "needs_background": "light"
     },
     "output_type": "display_data"
    }
   ],
   "source": [
    "#We need pandas for the DateFrame, seaborn for the heatmap, and plt for the figure and color map \n",
    "import pandas as pd\n",
    "import seaborn as sns\n",
    "import matplotlib.pyplot as plt\n",
    "from sklearn.metrics import confusion_matrix\n",
    "\n",
    "def TrainAndClassify(classifier):\n",
    "    xTrain, xTest, yTrain, yTest = train_test_split(iris.data, iris.target, random_state=11) #add random state for reproducibility \\n,\n",
    "\n",
    "    classifier.fit(X=xTrain, y=yTrain)\n",
    "    predictedLabels = classifier.predict(X=xTest)\n",
    "    expectedLabels = yTest #We also require our expected labels for future analysis.\n",
    "\n",
    "    wrong = [(p, e) for (p, e) in zip(predictedLabels, expectedLabels) if p != e]\n",
    "\n",
    "    return (predictedLabels, expectedLabels)\n",
    "\n",
    "result = TrainAndClassify(estimators[maxClassifier])\n",
    "\n",
    "confusion = confusion_matrix(y_true=result[0], y_pred=result[1])\n",
    "confusion_df = pd.DataFrame(confusion, index=range(3), columns=range(3))\n",
    "\n",
    "figure = plt.figure(figsize=(3, 3))\n",
    "axes = sns.heatmap(confusion_df, annot=True, \n",
    "                   cmap='nipy_spectral_r') "
   ]
  },
  {
   "cell_type": "markdown",
   "metadata": {},
   "source": [
    "### Part 2\n",
    "setup parameters and tokens"
   ]
  },
  {
   "cell_type": "code",
   "execution_count": null,
   "metadata": {},
   "outputs": [],
   "source": [
    "import tweepy\n",
    "\n",
    "import os\n",
    "\n",
    "#Variables that contains the user credentials to access Twitter API \n",
    "access_token = \"1438524083554107393-v2J4KHgxxDkkpaPvQVp38cl463s6JS\"\n",
    "access_token_secret = \"5DcOfn52PLUrhVKbcBxdY38EcRJQixgOA6xfnaoRwqZwC\"\n",
    "consumer_key = \"DqmMnt4JIIRAScxx7KwoPvJ1d\"\n",
    "consumer_secret = \"MV1Y2QV4OaLaU0qiPQEVAxzpLZqTlftt7EahLEET3MjD0l4PpN\"\n",
    "\n",
    "auth = tweepy.OAuthHandler(consumer_key,\n",
    "                           consumer_secret) #Set up the app keys\n",
    "auth.set_access_token(access_token,\n",
    "                      access_token_secret) #set up your user tokens\n",
    "\n",
    "api = tweepy.API(auth, wait_on_rate_limit=True, \n",
    "                 wait_on_rate_limit_notify=True) #ALWAYS use wait_on_rate_limit to prevent yourself from getting blocked\n",
    "\n",
    "uofl = api.get_user('uofl')\n",
    "\n",
    "#city of choice: Cincinati \n",
    "print(uofl.status)"
   ]
  },
  {
   "cell_type": "markdown",
   "metadata": {},
   "source": [
    "### Part 2\n",
    "Start finding tweets"
   ]
  },
  {
   "cell_type": "code",
   "execution_count": 160,
   "metadata": {},
   "outputs": [
    {
     "ename": "ImportError",
     "evalue": "cannot import name 'Textblob' from 'textblob' (C:\\Users\\cmkle\\AppData\\Local\\Packages\\PythonSoftwareFoundation.Python.3.9_qbz5n2kfra8p0\\LocalCache\\local-packages\\Python39\\site-packages\\textblob\\__init__.py)",
     "output_type": "error",
     "traceback": [
      "\u001b[1;31m---------------------------------------------------------------------------\u001b[0m",
      "\u001b[1;31mImportError\u001b[0m                               Traceback (most recent call last)",
      "\u001b[1;32m<ipython-input-160-e3931cf4e232>\u001b[0m in \u001b[0;36m<module>\u001b[1;34m\u001b[0m\n\u001b[1;32m----> 1\u001b[1;33m \u001b[1;32mfrom\u001b[0m \u001b[0mtextblob\u001b[0m \u001b[1;32mimport\u001b[0m \u001b[0mTextblob\u001b[0m\u001b[1;33m\u001b[0m\u001b[1;33m\u001b[0m\u001b[0m\n\u001b[0m\u001b[0;32m      2\u001b[0m \u001b[1;33m\u001b[0m\u001b[0m\n\u001b[0;32m      3\u001b[0m \u001b[1;32mdef\u001b[0m \u001b[0mprint_tweets\u001b[0m\u001b[1;33m(\u001b[0m\u001b[0mtweets\u001b[0m\u001b[1;33m)\u001b[0m\u001b[1;33m:\u001b[0m\u001b[1;33m\u001b[0m\u001b[1;33m\u001b[0m\u001b[0m\n\u001b[0;32m      4\u001b[0m     \"\"\"For each Tweepy Status object in tweets, display the \n\u001b[0;32m      5\u001b[0m     \u001b[0muser\u001b[0m\u001b[0;31m'\u001b[0m\u001b[0ms\u001b[0m \u001b[0mscreen_name\u001b[0m \u001b[1;32mand\u001b[0m \u001b[0mtweet\u001b[0m \u001b[0mtext\u001b[0m\u001b[1;33m.\u001b[0m \u001b[0mIf\u001b[0m \u001b[0mthe\u001b[0m \u001b[0mlanguage\u001b[0m \u001b[1;32mis\u001b[0m \u001b[1;32mnot\u001b[0m\u001b[1;33m\u001b[0m\u001b[1;33m\u001b[0m\u001b[0m\n",
      "\u001b[1;31mImportError\u001b[0m: cannot import name 'Textblob' from 'textblob' (C:\\Users\\cmkle\\AppData\\Local\\Packages\\PythonSoftwareFoundation.Python.3.9_qbz5n2kfra8p0\\LocalCache\\local-packages\\Python39\\site-packages\\textblob\\__init__.py)"
     ]
    }
   ],
   "source": [
    "from textblob import Textblob\n",
    "\n",
    "def print_tweets(tweets):\n",
    "    \"\"\"For each Tweepy Status object in tweets, display the \n",
    "    user's screen_name and tweet text. If the language is not\n",
    "    English, translate the text with TextBlob.\"\"\"\n",
    "    for tweet in tweets:\n",
    "        print(f'{tweet.user.screen_name}:', end=' ')\n",
    "    \n",
    "        if 'en' in tweet.lang:\n",
    "            print(f'{tweet.text}\\n')\n",
    "        elif 'und' not in tweet.lang:  # translate to English first\n",
    "            print(f'\\n  ORIGINAL: {tweet.text}')\n",
    "            try:\n",
    "                print(f'TRANSLATED: {TextBlob(tweet.text).translate()}\\n')\n",
    "            except:\n",
    "                print('Unable to translate tweet')\n",
    "\n",
    "tweets = api.search(near='Cincinnati', count=3)\n",
    "\n",
    "print(tweets)"
   ]
  }
 ],
 "metadata": {
  "interpreter": {
   "hash": "2028cae5e1ccfd73f96864fcab749a741bd0171c015975c3f420b043b6b34333"
  },
  "kernelspec": {
   "display_name": "Python 3.9.12 64-bit (windows store)",
   "language": "python",
   "name": "python3"
  },
  "language_info": {
   "codemirror_mode": {
    "name": "ipython",
    "version": 3
   },
   "file_extension": ".py",
   "mimetype": "text/x-python",
   "name": "python",
   "nbconvert_exporter": "python",
   "pygments_lexer": "ipython3",
   "version": "3.9.12"
  },
  "orig_nbformat": 4
 },
 "nbformat": 4,
 "nbformat_minor": 2
}
