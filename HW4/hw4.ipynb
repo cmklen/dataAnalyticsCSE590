{
 "cells": [
  {
   "cell_type": "markdown",
   "metadata": {},
   "source": [
    "### Part 1 - a\n",
    "Loading in the dataset and defining classification functions"
   ]
  },
  {
   "cell_type": "code",
   "execution_count": 120,
   "metadata": {},
   "outputs": [],
   "source": [
    "from sklearn.datasets import load_iris\n",
    "from sklearn.model_selection import train_test_split\n",
    "import matplotlib.pyplot as plt\n",
    "\n",
    "iris = load_iris()\n",
    "\n",
    "def printResult(trainingResult, type):\n",
    "    print(f'The {type} classifier incorrectly predicted {len(trainingResult[0])} of {len(trainingResult[2])} ({str(trainingResult[1])+\"%\"}) samples.')\n",
    "\n",
    "def TrainAndClassify(classifier):\n",
    "    xTrain, xTest, yTrain, yTest = train_test_split(iris.data, iris.target, random_state=11) #add random state for reproducibility \n",
    "\n",
    "    classifier.fit(X=xTrain, y=yTrain)\n",
    "    predictedLabels = classifier.predict(X=xTest)\n",
    "    expectedLabels = yTest #We also require our expected labels for future analysis.\n",
    "\n",
    "    wrong = [(p, e) for (p, e) in zip(predictedLabels, expectedLabels) if p != e]\n",
    "\n",
    "    percentWrong = round(100*(len(wrong)/len(expectedLabels)), 4)\n",
    "\n",
    "    return (wrong, percentWrong, expectedLabels)"
   ]
  },
  {
   "cell_type": "markdown",
   "metadata": {},
   "source": [
    "### Part 1 - b\n",
    "K- Closest Neighbor\n"
   ]
  },
  {
   "cell_type": "markdown",
   "metadata": {},
   "source": [
    "\n",
    "Neural Network using multi-layer perceptron"
   ]
  },
  {
   "cell_type": "code",
   "execution_count": 125,
   "metadata": {},
   "outputs": [
    {
     "name": "stdout",
     "output_type": "stream",
     "text": [
      "KNeighborsClassifier: mean accuracy=95.33%; standard deviation=5.21%\n",
      "                 SGD: mean accuracy=88.67%; standard deviation=13.01%\n",
      "          GaussianNB: mean accuracy=94.67%; standard deviation=6.53%\n"
     ]
    }
   ],
   "source": [
    "from sklearn.neighbors import KNeighborsClassifier\n",
    "from sklearn.linear_model import SGDClassifier\n",
    "from sklearn.naive_bayes  import GaussianNB\n",
    "from sklearn.model_selection import KFold\n",
    "from sklearn.model_selection import cross_val_score\n",
    "\n",
    "kfold = KFold(n_splits=10, random_state=11, shuffle=True)\n",
    "\n",
    "\n",
    "estimators = {\n",
    "    'KNeighborsClassifier': KNeighborsClassifier(), \n",
    "    'SGD': SGDClassifier(loss=\"hinge\", penalty=\"l2\", max_iter=1000),\n",
    "    'GaussianNB': GaussianNB()}\n",
    "\n",
    "# kClosestTrainingResult = TrainAndClassify(estimators['KNeighborsClassifier'])\n",
    "# printResult(kClosestTrainingResult, \"K-Closest Neighbor\")\n",
    "\n",
    "# mlpTrainingResult = TrainAndClassify(estimators['SGD'])\n",
    "# printResult(mlpTrainingResult, \"Stochastic Gradient Descent\")\n",
    "\n",
    "# mlpTrainingResult = TrainAndClassify(estimators['GaussianNB'])\n",
    "# printResult(mlpTrainingResult, \"Gaussian Naive Bayes\")\n",
    "\n",
    "\n",
    "#Now execute each model and return the \n",
    "for estimator_name, estimator_object in estimators.items():\n",
    "    kfold = KFold(n_splits=10, random_state=11, shuffle=True)\n",
    "    scores = cross_val_score(estimator=estimator_object, \n",
    "        X=iris.data, y=iris.target, cv=kfold)\n",
    "    print(f'{estimator_name:>20}: ' + \n",
    "          f'mean accuracy={scores.mean():.2%}; ' +\n",
    "          f'standard deviation={scores.std():.2%}')"
   ]
  }
 ],
 "metadata": {
  "interpreter": {
   "hash": "2028cae5e1ccfd73f96864fcab749a741bd0171c015975c3f420b043b6b34333"
  },
  "kernelspec": {
   "display_name": "Python 3.9.12 64-bit (windows store)",
   "language": "python",
   "name": "python3"
  },
  "language_info": {
   "codemirror_mode": {
    "name": "ipython",
    "version": 3
   },
   "file_extension": ".py",
   "mimetype": "text/x-python",
   "name": "python",
   "nbconvert_exporter": "python",
   "pygments_lexer": "ipython3",
   "version": "3.9.12"
  },
  "orig_nbformat": 4
 },
 "nbformat": 4,
 "nbformat_minor": 2
}
