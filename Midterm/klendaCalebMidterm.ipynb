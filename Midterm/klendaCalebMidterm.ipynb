{
 "cells": [
  {
   "cell_type": "markdown",
   "source": [
    "Problem #1"
   ],
   "metadata": {}
  },
  {
   "cell_type": "code",
   "execution_count": 98,
   "source": [
    "import pandas as pd \r\n",
    "\r\n",
    "#read in csv\r\n",
    "df_init = pd.read_csv(\"MetObjects_Subset.csv\")"
   ],
   "outputs": [],
   "metadata": {}
  },
  {
   "cell_type": "markdown",
   "source": [
    "Problem #2"
   ],
   "metadata": {}
  },
  {
   "cell_type": "code",
   "execution_count": 99,
   "source": [
    "#create a copy of df that contains true/false for empty/not empty\r\n",
    "dfEmptyCheck = df_init.isna()\r\n",
    "colListToDrop = []\r\n",
    "\r\n",
    "#iterate through the columns of the df\r\n",
    "for col in dfEmptyCheck:\r\n",
    "    #check if there are at least as many empty values than filled, and add to list\r\n",
    "     if ((dfEmptyCheck[col]==True).sum() >= (dfEmptyCheck[col]==False).sum()):\r\n",
    "        colListToDrop.append(col)\r\n",
    "\r\n",
    "#drop the list of values from the df to create new one\r\n",
    "df_prob2 = df_init.drop(colListToDrop, axis=1)"
   ],
   "outputs": [],
   "metadata": {}
  },
  {
   "cell_type": "markdown",
   "source": [
    "Problem #3"
   ],
   "metadata": {}
  },
  {
   "cell_type": "code",
   "execution_count": 100,
   "source": [
    "#Create a list of the top 10 name by occurance in the Object Name column\r\n",
    "listOfTopTenObjectNames = df_prob2['Object Name'].value_counts()[:10].index.tolist()\r\n",
    "#Create dataframe with only those rows that match the values in the list\r\n",
    "df_prob3 = df_prob2[df_prob2['Object Name'].isin(listOfTopTenObjectNames)]"
   ],
   "outputs": [],
   "metadata": {}
  },
  {
   "cell_type": "markdown",
   "source": [
    "Problem #4"
   ],
   "metadata": {}
  },
  {
   "cell_type": "code",
   "execution_count": 101,
   "source": [
    "#problem 4\r\n",
    "import numpy as np\r\n",
    "\r\n",
    "#create the dict\r\n",
    "dict_prob4= {\"United States\": 0.0, \"Mexico\": 0.0, \"Canada\": 0.0, \"Other\": 0.0}\r\n",
    "#create a list for names and for values, easy to track this way\r\n",
    "acceptedCountries = [\"United States\", \"Mexico\", \"Canada\", \"Other\"]\r\n",
    "occuranceList = [0, 0, 0, 0] \r\n",
    "\r\n",
    "#iterate through countires\r\n",
    "for data in df_prob3[\"Country\"]:\r\n",
    "    #if it's one of the 4 valid, count it at that index\r\n",
    "    if data in acceptedCountries:\r\n",
    "        occuranceList[acceptedCountries.index(data)] += 1\r\n",
    "    #otherwise, count as other\r\n",
    "    else:\r\n",
    "        occuranceList[3] += 1\r\n",
    "\r\n",
    "#sum the total countries to calculate percent\r\n",
    "totalCountries = sum(occuranceList)\r\n",
    "\r\n",
    "#update the dict with correcet percents\r\n",
    "for key in dict_prob4:\r\n",
    "    dict_prob4[key] = np.round(100*occuranceList[acceptedCountries.index(key)]/totalCountries, decimals=2)"
   ],
   "outputs": [],
   "metadata": {}
  },
  {
   "cell_type": "markdown",
   "source": [
    "Problem #5"
   ],
   "metadata": {}
  },
  {
   "cell_type": "code",
   "execution_count": 102,
   "source": [
    "dict_prob5 = {\"1900s\": 0, \"1910s\": 0,\"1920s\": 0,\"1930s\": 0,\"1940s\": 0,\"1950s\": 0,\"1960s\": 0,\"1970s\": 0,\"1980s\": 0,\"1990s\": 0}\r\n",
    "\r\n",
    "#iterate through end dates\r\n",
    "for data in df_prob3[\"Object End Date\"]:\r\n",
    "    if data >= 1900 and data < 2000:\r\n",
    "        #convert value into single number, then to string\r\n",
    "        decade = int((data%1900)/ 10)\r\n",
    "        key = \"19\" + str(decade) + \"0s\"\r\n",
    "        #count it\r\n",
    "        dict_prob5[key] += 1"
   ],
   "outputs": [],
   "metadata": {}
  },
  {
   "cell_type": "markdown",
   "source": [
    "Problem #6"
   ],
   "metadata": {}
  },
  {
   "cell_type": "code",
   "execution_count": 103,
   "source": [
    "#graph time\r\n",
    "import matplotlib.pyplot as plt\r\n",
    "# a function could be made here to simplifiy this, but kept seperate since\r\n",
    "#i wans't sure how it would be graded\r\n",
    "#print problem 4\r\n",
    "plt.bar(x=dict_prob4.keys(), height=list(dict_prob4.values()))\r\n",
    "plt.show()\r\n",
    "\r\n",
    "#print problem 5\r\n",
    "plt.bar(x=dict_prob5.keys(), height=list(dict_prob5.values()))\r\n",
    "plt.show()"
   ],
   "outputs": [
    {
     "output_type": "display_data",
     "data": {
      "image/png": "[encoded data removed]",
      "text/plain": [
       "<Figure size 432x288 with 1 Axes>"
      ]
     },
     "metadata": {
      "needs_background": "light"
     }
    },
    {
     "output_type": "display_data",
     "data": {
      "image/png": "[encoded data removed]",
      "text/plain": [
       "<Figure size 432x288 with 1 Axes>"
      ]
     },
     "metadata": {
      "needs_background": "light"
     }
    }
   ],
   "metadata": {}
  }
 ],
 "metadata": {
  "orig_nbformat": 4,
  "language_info": {
   "name": "python",
   "version": "3.9.11",
   "mimetype": "text/x-python",
   "codemirror_mode": {
    "name": "ipython",
    "version": 3
   },
   "pygments_lexer": "ipython3",
   "nbconvert_exporter": "python",
   "file_extension": ".py"
  },
  "kernelspec": {
   "name": "python3",
   "display_name": "Python 3.9.11 64-bit (windows store)"
  },
  "interpreter": {
   "hash": "2028cae5e1ccfd73f96864fcab749a741bd0171c015975c3f420b043b6b34333"
  }
 },
 "nbformat": 4,
 "nbformat_minor": 2
}