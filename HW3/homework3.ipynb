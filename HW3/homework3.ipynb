{
 "cells": [
  {
   "cell_type": "markdown",
   "source": [
    "### Part 2 1 code"
   ],
   "metadata": {}
  },
  {
   "cell_type": "code",
   "execution_count": 33,
   "source": [
    "#functions and code to read text for part 2\r\n",
    "from textblob import TextBlob, Word\r\n",
    "from nltk.corpus import stopwords\r\n",
    "from collections import Counter\r\n",
    "from wordcloud import WordCloud\r\n",
    "from operator import itemgetter\r\n",
    "import re\r\n",
    "import matplotlib.pyplot as plt\r\n",
    "import pandas as pd \r\n",
    "import imageio\r\n",
    "\r\n",
    "def removeCharactersAndStopWords(wordList):\r\n",
    "    return [re.sub('[!@#$.,0123456789?\\':()/;`“”\"-]', '', word) for word in wordList if word not in stopwords.words('english')]\r\n",
    "\r\n",
    "def getTextBlobFromText(filename):\r\n",
    "    words = []\r\n",
    "    with open(filename, 'r', encoding='utf-8') as file:\r\n",
    "        for line in file:\r\n",
    "            for word in line.split():\r\n",
    "               words.append(word.lower()) \r\n",
    "    return ProcessText(words)\r\n",
    "\r\n",
    "def ProcessText(text):\r\n",
    "    finalWordList = []\r\n",
    "    tempWordList = []\r\n",
    "    tempWordList = removeCharactersAndStopWords(text)\r\n",
    "    for word in tempWordList:\r\n",
    "        w = Word(word)\r\n",
    "        finalWordList.append(w.lemmatize())\r\n",
    "\r\n",
    "    #idk why I need to run again, but it was adding back \r\n",
    "    #stuff after lemmization and I was tired of trying to fix\r\n",
    "    #There's a better way for sure\r\n",
    "    finalWordList = removeCharactersAndStopWords(finalWordList)\r\n",
    "\r\n",
    "    newBlob = TextBlob(' '.join(finalWordList))\r\n",
    "    return newBlob\r\n",
    "\r\n",
    "ozy = getTextBlobFromText(\"texts/ozymandius.txt\")\r\n",
    "aod = getTextBlobFromText(\"texts/armyOfDarkness.txt\")\r\n",
    "pag = getTextBlobFromText(\"texts/princessAndGoblin.txt\")"
   ],
   "outputs": [],
   "metadata": {}
  },
  {
   "cell_type": "markdown",
   "source": [
    "Below are the output funtions and code for part 2 b & c"
   ],
   "metadata": {}
  },
  {
   "cell_type": "code",
   "execution_count": null,
   "source": [
    "#output code for part 2\r\n",
    "def PlotTop25Words(textBlob, fileName):\r\n",
    "    wordList = []\r\n",
    "    countList = []\r\n",
    "    d = Counter(textBlob.word_counts)\r\n",
    "    for w, c in d.most_common(25):\r\n",
    "        wordList.append(w)\r\n",
    "        countList.append(c)\r\n",
    "\r\n",
    "    plt.bar(x=wordList, height=countList)\r\n",
    "    plt.xticks(rotation=70)\r\n",
    "    plt.tight_layout()\r\n",
    "    plt.savefig(fname=fileName, facecolor='white')\r\n",
    "    plt.show()\r\n",
    "\r\n",
    "def GenerateCloud(maskFile, outputFile, blob, numberOfWords, colormap):\r\n",
    "    items = blob.word_counts.items()\r\n",
    "    sortedItems = sorted(items, key=itemgetter(1), reverse=True)\r\n",
    "    topWords = []\r\n",
    "    for word in sortedItems[:numberOfWords]:\r\n",
    "        topWords.append(word[0]) \r\n",
    "\r\n",
    "    mask_image = imageio.imread(maskFile)\r\n",
    "\r\n",
    "    wordCloud = WordCloud(width=1000, height=1000, colormap=colormap, mask=mask_image, background_color='white')\r\n",
    "    wordCloud.generate(' '.join(topWords))\r\n",
    "    wordCloud = wordCloud.to_file(outputFile)\r\n",
    "\r\n",
    "PlotTop25Words(ozy, 'output/ozyBar.png')\r\n",
    "PlotTop25Words(aod, 'output/aodBar.png')\r\n",
    "PlotTop25Words(pag, 'output/pagBar.png')\r\n",
    "\r\n",
    "GenerateCloud('masks/crab.png','output/ozyCloud.png', ozy, 100, \"gist_earth\")\r\n",
    "GenerateCloud('masks/chainsaw.png','output/aodCloud.png', aod, 100, \"twilight_shifted\")\r\n",
    "GenerateCloud('masks/crown.png','output/pagCloud.png', pag, 100, \"spring\")"
   ],
   "outputs": [],
   "metadata": {}
  },
  {
   "cell_type": "markdown",
   "source": [
    "### Part 3\r\n"
   ],
   "metadata": {}
  },
  {
   "cell_type": "code",
   "execution_count": 62,
   "source": [
    "#part 3\r\n",
    "from textatistic import Textatistic \r\n",
    "from pathlib import Path\r\n",
    "import os\r\n",
    "\r\n",
    "def calculateReadability(file):\r\n",
    "    text = Path(file).read_text(encoding='utf-8')\r\n",
    "    readability = Textatistic(text)\r\n",
    "\r\n",
    "    %precision 3\r\n",
    "    readDict = readability.dict()\r\n",
    "    averageScore = (readDict['fleschkincaid_score']+readDict['gunningfog_score']+readDict['smog_score']+readDict['dalechall_score'])/4\r\n",
    "    print(\"The Average Score for\", os.path.basename(file),\" is:\", round(averageScore, 2))\r\n",
    "\r\n",
    "calculateReadability('texts/ozymandius.txt')\r\n",
    "calculateReadability('texts/princessAndGoblin.txt')\r\n",
    "calculateReadability('texts/armyOfDarkness.txt')\r\n"
   ],
   "outputs": [
    {
     "output_type": "stream",
     "name": "stdout",
     "text": [
      "The Average Score for ozymandius.txt  is: 6.94\n",
      "The Average Score for princessAndGoblin.txt  is: 6.11\n",
      "The Average Score for armyOfDarkness.txt  is: 4.19\n"
     ]
    }
   ],
   "metadata": {}
  },
  {
   "cell_type": "markdown",
   "source": [
    "### Part 4\r\n"
   ],
   "metadata": {}
  },
  {
   "cell_type": "code",
   "execution_count": 72,
   "source": [
    "#part 4\r\n",
    "import spacy\r\n",
    "\r\n",
    "nlplg = spacy.load('en_core_web_lg')\r\n",
    "\r\n",
    "def compareTexts(text1, text2, text3):\r\n",
    "    document1 = nlplg(Path(text1).read_text(encoding='utf-8'))\r\n",
    "    document2 = nlplg(Path(text2).read_text(encoding='utf-8'))\r\n",
    "    document3 = nlplg(Path(text3).read_text(encoding='utf-8'))\r\n",
    "    docsimA = document1.similarity(document2)\r\n",
    "    docsimB = document2.similarity(document3)\r\n",
    "    docsimC = document3.similarity(document1)\r\n",
    "    print('Similarity for', os.path.basename(text1), \"to\", os.path.basename(text2),\"is\", round(docsimA,3))\r\n",
    "    print('Similarity for', os.path.basename(text2), \"to\", os.path.basename(text3),\"is\", round(docsimB,3))\r\n",
    "    print('Similarity for', os.path.basename(text3), \"to\", os.path.basename(text1),\"is\", round(docsimC,3))\r\n",
    "\r\n",
    "compareTexts('texts/princessAndGoblin.txt', 'texts/ozymandius.txt', 'texts/armyOfDarkness.txt')\r\n"
   ],
   "outputs": [
    {
     "output_type": "stream",
     "name": "stdout",
     "text": [
      "Similarity for princessAndGoblin.txt to ozymandius.txt is 0.955\n",
      "Similarity for ozymandius.txt to armyOfDarkness.txt is 0.948\n",
      "Similarity for armyOfDarkness.txt to princessAndGoblin.txt is 0.958\n"
     ]
    }
   ],
   "metadata": {}
  }
 ],
 "metadata": {
  "orig_nbformat": 4,
  "language_info": {
   "name": "python",
   "version": "3.9.12",
   "mimetype": "text/x-python",
   "codemirror_mode": {
    "name": "ipython",
    "version": 3
   },
   "pygments_lexer": "ipython3",
   "nbconvert_exporter": "python",
   "file_extension": ".py"
  },
  "kernelspec": {
   "name": "python3",
   "display_name": "Python 3.9.12 64-bit (windows store)"
  },
  "interpreter": {
   "hash": "2028cae5e1ccfd73f96864fcab749a741bd0171c015975c3f420b043b6b34333"
  }
 },
 "nbformat": 4,
 "nbformat_minor": 2
}